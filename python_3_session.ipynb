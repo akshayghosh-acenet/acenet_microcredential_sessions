{
 "cells": [
  {
   "cell_type": "code",
   "execution_count": 8,
   "id": "80f87f0f-1d7b-45f2-b551-ad102244450b",
   "metadata": {
    "tags": []
   },
   "outputs": [
    {
     "name": "stdout",
     "output_type": "stream",
     "text": [
      "('toyota', 'honda', 'ferrari')\n",
      "honda\n",
      "honda\n"
     ]
    }
   ],
   "source": [
    "'''\n",
    "TUPLES\n",
    "'''\n",
    "\n",
    "# creating a tuple\n",
    "cars = ('toyota','honda','ferrari')\n",
    "\n",
    "print(cars)\n",
    "print(cars[1])\n",
    "print(cars[-2])\n",
    "\n",
    "# cars[1] = 'lamborghini'"
   ]
  },
  {
   "cell_type": "code",
   "execution_count": 9,
   "id": "53ef7429-1ae5-4864-bb0c-4be780e4ef91",
   "metadata": {
    "tags": []
   },
   "outputs": [
    {
     "name": "stdout",
     "output_type": "stream",
     "text": [
      "3\n"
     ]
    }
   ],
   "source": [
    "stuff = ('toyota',5.1,[3,1,0])\n",
    "print(len(stuff))"
   ]
  },
  {
   "cell_type": "code",
   "execution_count": 15,
   "id": "65236570-a9ea-4de5-a833-fe6183dbaae8",
   "metadata": {
    "tags": []
   },
   "outputs": [
    {
     "name": "stdout",
     "output_type": "stream",
     "text": [
      "2\n",
      "1\n"
     ]
    }
   ],
   "source": [
    "# the tuple built in methods\n",
    "# there is a python function called \"dir()\"\n",
    "\n",
    "# print(dir(tuple))\n",
    "\n",
    "numbers = (5,3,5,2,1,-1,3)\n",
    "\n",
    "# the count method\n",
    "print(numbers.count(5))\n",
    "\n",
    "# the index method\n",
    "print(numbers.index(3))"
   ]
  },
  {
   "cell_type": "code",
   "execution_count": 20,
   "id": "0dbab148-e759-4e2a-86d2-f22f98a0d4be",
   "metadata": {
    "tags": []
   },
   "outputs": [
    {
     "name": "stdout",
     "output_type": "stream",
     "text": [
      "Karlsson has won the norris 3 times\n",
      "the third most recent winner was Fox\n",
      "Rielly has not ever won this\n"
     ]
    }
   ],
   "source": [
    "# EXERCISE 1.1\n",
    "\n",
    "# list of most recent Norris trophy winners (best defenseman in the NHL)\n",
    "norris_winners = ('Karlsson','Subban','Keith',\n",
    "                 'Karlsson','Doughty','Burns',\n",
    "                 'Hedman','Giordano','Josi',\n",
    "                 'Fox','Makar','Karlsson')\n",
    "\n",
    "karlsson_occurances = norris_winners.count('Karlsson')\n",
    "print(f\"Karlsson has won the norris {karlsson_occurances} times\")\n",
    "\n",
    "third_recent = norris_winners[-3]\n",
    "print(f'the third most recent winner was {third_recent}') # the f string allows us to insert a variable into a string with {variable}\n",
    "\n",
    "# norris_winners.index('Rielly')\n",
    "try:\n",
    "    norris_winners.index('Rielly')\n",
    "except ValueError:\n",
    "    print('Rielly has not ever won this')"
   ]
  },
  {
   "cell_type": "code",
   "execution_count": 23,
   "id": "c0a2a113-73f4-41ec-9ece-0cbd51da08f7",
   "metadata": {
    "tags": []
   },
   "outputs": [
    {
     "name": "stdout",
     "output_type": "stream",
     "text": [
      "{'key1': 'item1', 'key2': 'item2', 'key3': 'item3'}\n",
      "Smith Johnson credit approval status: False\n",
      "{'name': 'Smith Johnson', 'age': 47, 'credit approval status': False, 'previous car': 'McLaren F1'}\n"
     ]
    }
   ],
   "source": [
    "'''\n",
    "DICTIONARIES\n",
    "'''\n",
    "\n",
    "sample_dict = {'key1':'item1',\n",
    "               'key2':'item2',\n",
    "               'key3':'item3'}\n",
    "\n",
    "print(sample_dict)\n",
    "\n",
    "# here is a dictionary to store the customer information for a car dealership\n",
    "customer_dict = {'name':'Smith Johnson',\n",
    "                 'age':47,\n",
    "                 'credit approval status':False}\n",
    "\n",
    "print(f\"{customer_dict['name']} credit approval status: {customer_dict['credit approval status']}\")\n",
    "\n",
    "# to add a new item to the dictionary, we assign it a new key\n",
    "customer_dict['previous car'] = 'McLaren F1'\n",
    "\n",
    "print(customer_dict)"
   ]
  },
  {
   "cell_type": "code",
   "execution_count": 29,
   "id": "6c45a8e3-2de8-431a-b06a-089ea1096c08",
   "metadata": {
    "tags": []
   },
   "outputs": [
    {
     "name": "stdout",
     "output_type": "stream",
     "text": [
      "{'city name': \"St. John's\", 'province': 'Newfoundland and Labrador', 'metro population': 212579, 'metro area / km^2': 931.56}\n",
      "The population density is 228.197\n"
     ]
    }
   ],
   "source": [
    "# EXERCISE 2.1\n",
    "\n",
    "st_johns = {'city name':\"St. John's\",\n",
    "            'province':'Newfoundland and Labrador',\n",
    "            'metro population':212579,\n",
    "            'metro area / km^2':931.56}\n",
    "\n",
    "print(st_johns)\n",
    "\n",
    "st_johns['population density per km^2'] = st_johns['metro population'] / st_johns['metro area / km^2']\n",
    "\n",
    "print('The population density is', round(st_johns['population density per km^2'],3))"
   ]
  },
  {
   "cell_type": "code",
   "execution_count": 32,
   "id": "b5a5b548-59ce-4e44-a56c-c68d7617c254",
   "metadata": {
    "tags": []
   },
   "outputs": [
    {
     "name": "stdout",
     "output_type": "stream",
     "text": [
      "b > a\n",
      "False\n"
     ]
    }
   ],
   "source": [
    "'''\n",
    "CONDITIONALS\n",
    "'''\n",
    "\n",
    "a = 33\n",
    "b = 200\n",
    "\n",
    "if b > a:\n",
    "    print('b > a')\n",
    "    \n",
    "print(b < a)"
   ]
  },
  {
   "cell_type": "code",
   "execution_count": 36,
   "id": "0614c3f6-5c38-4571-8a42-646c1c9e771b",
   "metadata": {
    "tags": []
   },
   "outputs": [
    {
     "name": "stdout",
     "output_type": "stream",
     "text": [
      "grade is C\n"
     ]
    }
   ],
   "source": [
    "grade = 77\n",
    "\n",
    "if grade >= 90:\n",
    "    print('grade is A')\n",
    "elif grade >= 80:\n",
    "    print('grade is B')\n",
    "elif grade >= 70:\n",
    "    print('grade is C')\n",
    "else:\n",
    "    print('grade is Fail')"
   ]
  },
  {
   "cell_type": "code",
   "execution_count": 40,
   "id": "cecd362c-a847-48c6-8355-8d0e8e89134f",
   "metadata": {
    "tags": []
   },
   "outputs": [
    {
     "name": "stdout",
     "output_type": "stream",
     "text": [
      "above ten!\n",
      "but not above 20...\n"
     ]
    }
   ],
   "source": [
    "x = 12.3\n",
    "\n",
    "if x > 10:\n",
    "    print('above ten!')\n",
    "    if x > 20:\n",
    "        print('also above 20!')\n",
    "    else:\n",
    "        print('but not above 20...')"
   ]
  },
  {
   "cell_type": "code",
   "execution_count": 41,
   "id": "e2b66819-ac3d-4930-b4bc-54332c6648b8",
   "metadata": {
    "tags": []
   },
   "outputs": [
    {
     "name": "stdout",
     "output_type": "stream",
     "text": [
      "A\n"
     ]
    }
   ],
   "source": [
    "score = 97\n",
    "\n",
    "if score >= 90:\n",
    "    grade = 'A'\n",
    "elif score >= 80:\n",
    "    grade = 'B'\n",
    "elif score >= 70:\n",
    "    grade = 'C'\n",
    "elif score >= 60:\n",
    "    grade = 'D'\n",
    "else:\n",
    "    grade = 'F'\n",
    "    \n",
    "print(grade)"
   ]
  },
  {
   "cell_type": "code",
   "execution_count": 49,
   "id": "e7749a4f-6810-4d2d-8002-aab34e232eb6",
   "metadata": {
    "tags": []
   },
   "outputs": [
    {
     "name": "stdout",
     "output_type": "stream",
     "text": [
      "b\n",
      "-3.14\n",
      "['halifax', 'nova scotia']\n",
      "b\n",
      "-3.14\n",
      "['halifax', 'nova scotia']\n",
      "b\n",
      "-3.14\n",
      "['halifax', 'nova scotia']\n",
      "1\n",
      "2\n",
      "6\n"
     ]
    }
   ],
   "source": [
    "'''\n",
    "LOOPS\n",
    "'''\n",
    "\n",
    "list_loop = ['b',-3.14,['halifax','nova scotia']]\n",
    "\n",
    "# for item in variable\n",
    "\n",
    "for item in list_loop:\n",
    "    print(item)\n",
    "    \n",
    "# this is equivalent to\n",
    "print('b')\n",
    "print(-3.14)\n",
    "print(['halifax','nova scotia'])\n",
    "\n",
    "# or\n",
    "print(list_loop[0])\n",
    "print(list_loop[1])\n",
    "print(list_loop[2])\n",
    "\n",
    "# the loop variable is created on demand and can be named anything\n",
    "for halifax in [1,2,6]:\n",
    "    print(halifax)"
   ]
  },
  {
   "cell_type": "code",
   "execution_count": 52,
   "id": "13b5372b-ee23-497b-a31a-aa024248bc00",
   "metadata": {
    "tags": []
   },
   "outputs": [
    {
     "name": "stdout",
     "output_type": "stream",
     "text": [
      "2 4 8\n",
      "3 9 27\n",
      "5 25 125\n",
      "3\n",
      "4\n",
      "5\n",
      "6\n",
      "7\n",
      "8\n",
      "9\n"
     ]
    }
   ],
   "source": [
    "# the body of a loop can contain many statements\n",
    "primes = [2,3,5]\n",
    "for p in primes:\n",
    "    squared = p**2\n",
    "    cubed = p**3\n",
    "    print(p,squared,cubed)\n",
    "    \n",
    "\n",
    "# the built in function range() will produce a sequence of numbers\n",
    "for i in range(3,10):\n",
    "    print(i)\n",
    "    \n",
    "# range(A,B) gives you the range [A, B - 1]"
   ]
  },
  {
   "cell_type": "code",
   "execution_count": 53,
   "id": "c5a31ff2-1178-4869-9448-4b70203d0d95",
   "metadata": {
    "tags": []
   },
   "outputs": [
    {
     "name": "stdout",
     "output_type": "stream",
     "text": [
      "adding 0 to 0\n",
      "adding 1 to 0\n",
      "adding 2 to 1\n",
      "adding 3 to 3\n",
      "adding 4 to 6\n",
      "adding 5 to 10\n",
      "adding 6 to 15\n",
      "adding 7 to 21\n",
      "adding 8 to 28\n",
      "adding 9 to 36\n",
      "adding 10 to 45\n",
      "total sum = 55\n"
     ]
    }
   ],
   "source": [
    "# a common application for loops is accumulation\n",
    "\n",
    "# sum the first 10 integers\n",
    "total = 0\n",
    "for i in range(11):\n",
    "    print(f'adding {i} to {total}')\n",
    "    # total = total + i\n",
    "    total += i\n",
    "    \n",
    "print('total sum =',total)"
   ]
  },
  {
   "cell_type": "code",
   "execution_count": 54,
   "id": "59d0d46e-a833-4c68-bac9-9db922d5c6d4",
   "metadata": {
    "tags": []
   },
   "outputs": [
    {
     "name": "stdout",
     "output_type": "stream",
     "text": [
      "4.3\n",
      "5.1\n",
      "3.15\n",
      "2.0\n",
      "less than pi! ending loop\n"
     ]
    }
   ],
   "source": [
    "# now we will combine this with a break statement\n",
    "\n",
    "mass_kg = [4.3,5.1,3.15,2.0,6.7]\n",
    "pi = 3.14159\n",
    "\n",
    "for k in mass_kg:\n",
    "    print(k)\n",
    "    if k < pi:\n",
    "        print('less than pi! ending loop')\n",
    "        break"
   ]
  },
  {
   "cell_type": "code",
   "execution_count": 55,
   "id": "b6cb2c77-4bac-4836-a713-222f79f81307",
   "metadata": {
    "tags": []
   },
   "outputs": [
    {
     "name": "stdout",
     "output_type": "stream",
     "text": [
      "0\n",
      "1\n",
      "2\n",
      "3\n",
      "4\n",
      "done loop!\n"
     ]
    }
   ],
   "source": [
    "# you can end a loop with an else statement\n",
    "for x in range(5):\n",
    "    print(x)\n",
    "else:\n",
    "    print('done loop!')"
   ]
  },
  {
   "cell_type": "code",
   "execution_count": 56,
   "id": "2640a339-db19-42a3-a71e-9db4d23ce402",
   "metadata": {
    "tags": []
   },
   "outputs": [
    {
     "name": "stdout",
     "output_type": "stream",
     "text": [
      "pink maserati\n",
      "pink mclaren\n",
      "pink lamborghini\n",
      "\n",
      "green maserati\n",
      "green mclaren\n",
      "green lamborghini\n",
      "\n",
      "yellow maserati\n",
      "yellow mclaren\n",
      "yellow lamborghini\n",
      "\n"
     ]
    }
   ],
   "source": [
    "# nested loops: loops inside of loops\n",
    "\n",
    "colour = ['pink','green','yellow']\n",
    "make = ['maserati','mclaren','lamborghini']\n",
    "\n",
    "for x in colour:\n",
    "    for y in make:\n",
    "        print(x,y)\n",
    "    else:\n",
    "        print() # print a blank line"
   ]
  },
  {
   "cell_type": "code",
   "execution_count": 57,
   "id": "5fff932e-40f3-478a-a464-41c0e12cc2aa",
   "metadata": {
    "tags": []
   },
   "outputs": [
    {
     "name": "stdout",
     "output_type": "stream",
     "text": [
      "0 nova scotia\n",
      "1 newfoundland and labrador\n",
      "2 ontario\n",
      "3 quebec\n"
     ]
    }
   ],
   "source": [
    "# enumerating through a loop\n",
    "\n",
    "# general syntax:\n",
    "# for index,item in enumerate(variable)\n",
    "\n",
    "provinces = ['nova scotia','newfoundland and labrador',\n",
    "             'ontario','quebec']\n",
    "\n",
    "for idx,item in enumerate(provinces):\n",
    "    print(idx,item)"
   ]
  },
  {
   "cell_type": "code",
   "execution_count": 58,
   "id": "83d98fc9-85a7-46ff-8a8e-f936fa5e33e9",
   "metadata": {
    "tags": []
   },
   "outputs": [
    {
     "name": "stdout",
     "output_type": "stream",
     "text": [
      "RGB\n"
     ]
    }
   ],
   "source": [
    "# EXERCISE 4.1\n",
    "\n",
    "colours = ['red','green','blue']\n",
    "acronym = ''\n",
    "\n",
    "for colour in colours:\n",
    "    acronym += colour[0].upper()\n",
    "else:\n",
    "    print(acronym)"
   ]
  },
  {
   "cell_type": "code",
   "execution_count": 61,
   "id": "370dfaf4-bc2c-4a55-8439-5431b64ad19d",
   "metadata": {
    "tags": []
   },
   "outputs": [
    {
     "name": "stdout",
     "output_type": "stream",
     "text": [
      "3.54 is large\n",
      "2.07 is small\n",
      "9.22 is HUGE\n",
      "1.86 is small\n",
      "1.71 is small\n"
     ]
    }
   ],
   "source": [
    "'''\n",
    "LOOPS AND CONDITIONALS\n",
    "'''\n",
    "\n",
    "# conditionals are often used inside loops\n",
    "masses = [3.54,2.07,9.22,1.86,1.71]\n",
    "\n",
    "for m in masses:\n",
    "    if m > 9.0:\n",
    "        print(m,'is HUGE')\n",
    "    elif m > 3.0:\n",
    "        print(m,'is large')\n",
    "    else:\n",
    "        print(m,'is small')"
   ]
  },
  {
   "cell_type": "code",
   "execution_count": 63,
   "id": "0f1a1aaa-757b-4b6b-9151-7adf8cfb25c3",
   "metadata": {
    "tags": []
   },
   "outputs": [
    {
     "name": "stdout",
     "output_type": "stream",
     "text": [
      "['akshay', 'ghosh']\n"
     ]
    }
   ],
   "source": [
    "x = 'akshay ghosh'\n",
    "print(x.split())"
   ]
  },
  {
   "cell_type": "code",
   "execution_count": 65,
   "id": "0a9bb043-0f2c-40be-9045-8bb126755085",
   "metadata": {
    "tags": []
   },
   "outputs": [
    {
     "name": "stdout",
     "output_type": "stream",
     "text": [
      "['National', 'Aeronautics', 'and', 'Space', 'Administration']\n",
      "NASA\n"
     ]
    }
   ],
   "source": [
    "# EXERCISE 5.1\n",
    "\n",
    "string = 'National Aeronautics and Space Administration'\n",
    "str_list = string.split()\n",
    "print(str_list)\n",
    "\n",
    "acronym = ''\n",
    "\n",
    "for word in str_list:\n",
    "    if word != 'and':\n",
    "        acronym += word[0]\n",
    "else:\n",
    "    print(acronym)"
   ]
  },
  {
   "cell_type": "code",
   "execution_count": 68,
   "id": "866b2b89-1330-497c-aa0d-90d4cb107be1",
   "metadata": {
    "tags": []
   },
   "outputs": [
    {
     "name": "stdout",
     "output_type": "stream",
     "text": [
      "2 is prime!\n",
      "3 is prime!\n",
      "4 is not prime!\n",
      "5 is prime!\n",
      "[2, 3, 5]\n"
     ]
    }
   ],
   "source": [
    "# EXERCISE 5.2\n",
    "\n",
    "primes = []\n",
    "ints = range(2,6)\n",
    "\n",
    "for num in ints:\n",
    "    for i in range(2,num):\n",
    "        if num%i == 0:\n",
    "            print(num,'is not prime!')\n",
    "            break\n",
    "    else:\n",
    "        print(num,'is prime!')\n",
    "        primes.append(num)\n",
    "else:\n",
    "    print(primes)"
   ]
  },
  {
   "cell_type": "code",
   "execution_count": null,
   "id": "4eb69305-4d67-4654-8b4a-2d62abd7530e",
   "metadata": {},
   "outputs": [],
   "source": [
    "ints = range(2,30)\n",
    "primes = []\n",
    "\n",
    "for num in ints: # check if every number from 2 to 30 is prime\n",
    "    for i in range(2, num): # check for this number's even factors\n",
    "        if (num % i) == 0:\n",
    "            print(num, \"is not a prime number\")\n",
    "            break # if finding an even factor, no need to check for more\n",
    "    else:\n",
    "        print(num, \"is a prime number\")\n",
    "        primes.append(num) # save prime numbers"
   ]
  },
  {
   "cell_type": "code",
   "execution_count": 77,
   "id": "c3a51d91-7bce-4cda-aaf2-7a1f4f07809c",
   "metadata": {
    "tags": []
   },
   "outputs": [
    {
     "data": {
      "text/plain": [
       "1"
      ]
     },
     "execution_count": 77,
     "metadata": {},
     "output_type": "execute_result"
    }
   ],
   "source": [
    "# modulus operator returns the REMAINDER\n",
    "\n",
    "7%6"
   ]
  },
  {
   "cell_type": "code",
   "execution_count": 79,
   "id": "e7eb0ec2-0611-45b6-8841-cb74d6fad191",
   "metadata": {
    "tags": []
   },
   "outputs": [
    {
     "name": "stdout",
     "output_type": "stream",
     "text": [
      "11\n"
     ]
    }
   ],
   "source": [
    "'''\n",
    "FUNCTIONS\n",
    "'''\n",
    "\n",
    "# def function_name(input1,input2)\n",
    "\n",
    "def add_function(a,b):\n",
    "    result = a + b\n",
    "    return(result)\n",
    "\n",
    "z = add_function(5,6)\n",
    "print(z)"
   ]
  },
  {
   "cell_type": "code",
   "execution_count": 83,
   "id": "bb607edc-61c7-401f-a425-2d03ca856013",
   "metadata": {
    "tags": []
   },
   "outputs": [
    {
     "name": "stdout",
     "output_type": "stream",
     "text": [
      "hey\n",
      "None\n"
     ]
    }
   ],
   "source": [
    "def greeting():\n",
    "    print('hey')\n",
    "    return\n",
    "    \n",
    "z = greeting()\n",
    "print(z)"
   ]
  },
  {
   "cell_type": "code",
   "execution_count": 85,
   "id": "e26db0d6-4428-4398-ada2-aceacc505e70",
   "metadata": {
    "tags": []
   },
   "outputs": [
    {
     "name": "stdout",
     "output_type": "stream",
     "text": [
      "average =  None\n"
     ]
    }
   ],
   "source": [
    "def average(values):\n",
    "    if len(values) == 0:\n",
    "        return(None)\n",
    "    else:\n",
    "        return(sum(values) / len(values))\n",
    "    \n",
    "a = average([])\n",
    "print('average = ',a)\n",
    "\n",
    "def function(input1,input2,default1 = 0,default2 = 0):\n",
    "    None\n",
    "    return()"
   ]
  },
  {
   "cell_type": "code",
   "execution_count": 86,
   "id": "ab62b561-d83a-4529-9072-e05889d32687",
   "metadata": {
    "tags": []
   },
   "outputs": [
    {
     "name": "stdout",
     "output_type": "stream",
     "text": [
      "X =  4.0\n",
      "X =  3.0418396189294032\n",
      "X =  3.1315929035585537\n",
      "X =  3.140592653839794\n",
      "X =  3.1415916535897743\n"
     ]
    }
   ],
   "source": [
    "# recursion\n",
    "\n",
    "def equation(k):\n",
    "    output = 4 * (-1)**k / (2*k + 1)\n",
    "    return(output)\n",
    "\n",
    "def summation(N):\n",
    "    \n",
    "    total = 0\n",
    "    for j in range(N):\n",
    "        total += equation(j)\n",
    "    \n",
    "    return(total)\n",
    "    \n",
    "for num in [1,10,100,1000,1000000]:\n",
    "    print('X = ',summation(num))"
   ]
  },
  {
   "cell_type": "markdown",
   "id": "78e68780-7dac-4b73-bc18-8c55e24d9841",
   "metadata": {},
   "source": [
    "$$X = 4\\sum_{k = 0}^{\\infty} \\frac{(-1)^k}{2k + 1}$$"
   ]
  },
  {
   "cell_type": "code",
   "execution_count": 90,
   "id": "b992c5dd-6e77-4a71-b94f-3f899e8dc64d",
   "metadata": {
    "tags": []
   },
   "outputs": [],
   "source": [
    "# while loops\n",
    "\n",
    "total = 11\n",
    "while total < 10:\n",
    "    total += 3\n",
    "    print(total)"
   ]
  },
  {
   "cell_type": "markdown",
   "id": "a312eac8-577c-4606-b6a0-c079d7780419",
   "metadata": {},
   "source": [
    "## MAKE SURE YOU DO NOT CREATE AN INFINITE LOOP"
   ]
  },
  {
   "cell_type": "code",
   "execution_count": 108,
   "id": "58bbc3e2-9d92-471d-8563-9f6d5dda0674",
   "metadata": {
    "tags": []
   },
   "outputs": [
    {
     "name": "stdout",
     "output_type": "stream",
     "text": [
      "100 is not prime!\n",
      "[2, 4, 5, 10, 20, 25, 50]\n"
     ]
    }
   ],
   "source": [
    "# EXERCISE 6.1\n",
    "\n",
    "def check_prime(n,print_factors = False):\n",
    "    \n",
    "    factors = []\n",
    "    \n",
    "    if n < 2:\n",
    "        print('Input must be > 2')\n",
    "    else:\n",
    "        try:\n",
    "            for i in range(2,n):\n",
    "                if n%i == 0:\n",
    "                    factors.append(i)\n",
    "\n",
    "            if len(factors) == 0:\n",
    "                print(n,'is prime!')\n",
    "            else:\n",
    "                print(n,'is not prime!')\n",
    "                if print_factors:\n",
    "                    print(factors)\n",
    "\n",
    "        except TypeError:\n",
    "            print('Input must be an integer')\n",
    "    \n",
    "    \n",
    "    return(factors)\n",
    "\n",
    "check_prime(100, print_factors = True)\n",
    "None"
   ]
  },
  {
   "cell_type": "code",
   "execution_count": 111,
   "id": "9c471f59-060b-412a-8240-d7ad3d27771d",
   "metadata": {
    "tags": []
   },
   "outputs": [
    {
     "name": "stdout",
     "output_type": "stream",
     "text": [
      "['2001', '2002', '2003', '2006', '2007', '2008', '2011']\n"
     ]
    }
   ],
   "source": [
    "norris_dict = {'1990':'Bourque',\n",
    "         '1991':'Bourque',\n",
    "         '1992':'Leetch',\n",
    "         '1993':'Chelios',\n",
    "         '1994':'Bourque',\n",
    "         '1995':'Coffey',\n",
    "         '1996':'Chelios',\n",
    "         '1997':'Leetch',\n",
    "         '1998':'Blake',\n",
    "         '1999':'MacInnis',\n",
    "         '2000':'Pronger',\n",
    "         '2001':'Lidstrom',\n",
    "         '2002':'Lidstrom',\n",
    "         '2003':'Lidstrom',\n",
    "         '2004':'Niedermayer',\n",
    "         '2005':None,\n",
    "         '2006':'Lidstrom',\n",
    "         '2007':'Lidstrom',\n",
    "         '2008':'Lidstrom',\n",
    "         '2009':'Chara',\n",
    "         '2010':'Keith',\n",
    "         '2011':'Lidstrom'}\n",
    "\n",
    "def find_keys_by_value(input_dict,value):\n",
    "    \n",
    "    keys = []\n",
    "    \n",
    "    for key,val in input_dict.items():\n",
    "        if val == value:\n",
    "            keys.append(key)\n",
    "    \n",
    "    return(keys)\n",
    "\n",
    "years = find_keys_by_value(norris_dict,'Lidstrom')\n",
    "print(years)"
   ]
  }
 ],
 "metadata": {
  "kernelspec": {
   "display_name": "Python 3 (ipykernel)",
   "language": "python",
   "name": "python3"
  },
  "language_info": {
   "codemirror_mode": {
    "name": "ipython",
    "version": 3
   },
   "file_extension": ".py",
   "mimetype": "text/x-python",
   "name": "python",
   "nbconvert_exporter": "python",
   "pygments_lexer": "ipython3",
   "version": "3.11.5"
  }
 },
 "nbformat": 4,
 "nbformat_minor": 5
}
