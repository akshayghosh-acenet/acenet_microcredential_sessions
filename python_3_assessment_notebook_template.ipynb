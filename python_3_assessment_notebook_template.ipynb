{
 "cells": [
  {
   "cell_type": "markdown",
   "id": "73ce9cd9",
   "metadata": {},
   "source": [
    "## PYTHON 3 x CODING STANDARDS ASSESSMENT\n",
    "\n",
    "### Acenet Microcredential Program\n",
    "\n",
    "Note for submission: Change the name of this file to `python_3_assessment_FirstName_LastName.ipynb`\n",
    "\n",
    "You are to analyze the sales data of a used car dealership to gain insights.\n",
    "\n",
    "The data is stored in the list `sale_list`. Each element of the list is a dictionary with the following information on the sale:\n",
    "\n",
    "`sale_list[index] = {'customer': 'FirstName LastName', \n",
    "                    'make': 'CarCompany', \n",
    "                    'model': 'CarModel', \n",
    "                    'year': year car was made as an integer, \n",
    "                    'price': price as an integer}\n",
    "`"
   ]
  },
  {
   "cell_type": "markdown",
   "id": "7cb6adca",
   "metadata": {},
   "source": [
    "Using the information in `sale_list`, calculate:\n",
    "\n",
    "1. Total revenue from all sales\n",
    "2. Total revenue per each make: Honda, Toyota, Ford, Chevrolet, Ferrari, Lamborghini\n",
    "3. Total revenue from each year\n",
    "4. How many sales per each make\n",
    "5. What is the most popular make?\n",
    "6. Average revenue per make\n",
    "7. What were the 5 most expensive sales?\n",
    "8. What were the 5 least expensive sales?\n",
    "\n",
    "You are to write a function to solve each question. You can reuse previous functions in subsequent questions!\n",
    "\n",
    "To initalize the `sale_list` variable run the cell below:"
   ]
  },
  {
   "cell_type": "code",
   "execution_count": null,
   "id": "6f46530d",
   "metadata": {},
   "outputs": [],
   "source": [
    "sale_list = [\n",
    "{'customer': 'Olivia Walker', 'make': 'Toyota', 'model': 'Camry', 'year': 2014, 'price': 37575} ,\n",
    "{'customer': 'Samantha Lee', 'make': 'Chevrolet', 'model': 'Camaro', 'year': 2024, 'price': 18455} ,\n",
    "{'customer': 'Sarah Walker', 'make': 'Toyota', 'model': 'RAV4', 'year': 2012, 'price': 27047} ,\n",
    "{'customer': 'Margaret Nguyen', 'make': 'Ford', 'model': 'F-150', 'year': 2004, 'price': 28570} ,\n",
    "{'customer': 'Melissa Scott', 'make': 'Toyota', 'model': 'RAV4', 'year': 2006, 'price': 29602} ,\n",
    "{'customer': 'Amanda Nguyen', 'make': 'Toyota', 'model': 'Corolla', 'year': 2019, 'price': 38644} ,\n",
    "{'customer': 'Christopher Johnson', 'make': 'Ford', 'model': 'Focus', 'year': 2018, 'price': 17943} ,\n",
    "{'customer': 'Matthew Smith', 'make': 'Chevrolet', 'model': 'Corvette', 'year': 2003, 'price': 18040} ,\n",
    "{'customer': 'Barbara Ray Vaughan', 'make': 'Toyota', 'model': 'RAV4', 'year': 2002, 'price': 35501} ,\n",
    "{'customer': 'Jimi Hendrix', 'make': 'Ford', 'model': 'F-150', 'year': 2011, 'price': 15531} ,\n",
    "{'customer': 'Sarah Miller', 'make': 'Toyota', 'model': 'RAV4', 'year': 2024, 'price': 43183} ,\n",
    "{'customer': 'Brady Tkachuk', 'make': 'Toyota', 'model': 'Corolla', 'year': 2011, 'price': 24297} ,\n",
    "{'customer': 'Laura Miller', 'make': 'Chevrolet', 'model': 'Corvette', 'year': 2018, 'price': 21855} ,\n",
    "{'customer': 'Barbara Tkachuk', 'make': 'Chevrolet', 'model': 'Malibu', 'year': 2001, 'price': 34574} ,\n",
    "{'customer': 'David Allen', 'make': 'Chevrolet', 'model': 'Corvette', 'year': 2008, 'price': 18400} ,\n",
    "{'customer': 'Margaret Sanchez', 'make': 'Toyota', 'model': 'RAV4', 'year': 2017, 'price': 27926} ,\n",
    "{'customer': 'Samantha Johnson', 'make': 'Chevrolet', 'model': 'Camaro', 'year': 2018, 'price': 13796} ,\n",
    "{'customer': 'Elizabeth Lewis', 'make': 'Ford', 'model': 'Focus', 'year': 2008, 'price': 13544} ,\n",
    "{'customer': 'Laura Johnson', 'make': 'Honda', 'model': 'Accord', 'year': 2000, 'price': 22317} ,\n",
    "{'customer': 'Vanessa Johnson', 'make': 'Honda', 'model': 'Civic', 'year': 2001, 'price': 30163} ,\n",
    "{'customer': 'Christopher Moore', 'make': 'Ford', 'model': 'F-150', 'year': 2018, 'price': 4513} ,\n",
    "{'customer': 'James Davis', 'make': 'Toyota', 'model': 'Corolla', 'year': 2000, 'price': 38369} ,\n",
    "{'customer': 'Jim Robinson', 'make': 'Toyota', 'model': 'Camry', 'year': 2017, 'price': 25161} ,\n",
    "{'customer': 'Nicole Mitchell', 'make': 'Lamborghini', 'model': 'Countach', 'year': 2015, 'price': 124150} ,\n",
    "{'customer': 'Vanessa Walker', 'make': 'Chevrolet', 'model': 'Malibu', 'year': 2015, 'price': 22250} ,\n",
    "{'customer': 'Joshua Scott', 'make': 'Honda', 'model': 'Accord', 'year': 2001, 'price': 17227} ,\n",
    "{'customer': 'Nicole Smith', 'make': 'Chevrolet', 'model': 'Corvette', 'year': 2000, 'price': 5864} ,\n",
    "{'customer': 'Stella Lee', 'make': 'Toyota', 'model': 'Corolla', 'year': 2007, 'price': 11982} ,\n",
    "{'customer': 'Samantha Lopez', 'make': 'Honda', 'model': 'Accord', 'year': 2016, 'price': 32408} ,\n",
    "{'customer': 'Jessica Williams', 'make': 'Chevrolet', 'model': 'Malibu', 'year': 2002, 'price': 30508} ,\n",
    "{'customer': 'Michael Clark', 'make': 'Chevrolet', 'model': 'Camaro', 'year': 2013, 'price': 42719} ,\n",
    "{'customer': 'Stephanie Davis', 'make': 'Honda', 'model': 'CRV', 'year': 2019, 'price': 27665} ,\n",
    "{'customer': 'Melissa Jones', 'make': 'Toyota', 'model': 'RAV4', 'year': 2004, 'price': 24396} ,\n",
    "{'customer': 'Kevin Lopez', 'make': 'Toyota', 'model': 'Camry', 'year': 2008, 'price': 29807} ,\n",
    "{'customer': 'George Robinson', 'make': 'Toyota', 'model': 'Camry', 'year': 2011, 'price': 21511} ,\n",
    "{'customer': 'John Smith', 'make': 'Ford', 'model': 'Focus', 'year': 2017, 'price': 16001} ,\n",
    "{'customer': 'Stella Rodriguez', 'make': 'Honda', 'model': 'CRV', 'year': 2002, 'price': 13682} ,\n",
    "{'customer': 'Sarah King', 'make': 'Ford', 'model': 'Mustang', 'year': 2014, 'price': 36657} ,\n",
    "{'customer': 'Meghan Allen', 'make': 'Ford', 'model': 'Mustang', 'year': 2022, 'price': 18824} ,\n",
    "{'customer': 'Laura Rodriguez', 'make': 'Ferrari', 'model': 'F40', 'year': 2007, 'price': 165654} ,\n",
    "{'customer': 'Ryan Hendrix', 'make': 'Chevrolet', 'model': 'Camaro', 'year': 2017, 'price': 16364} ,\n",
    "{'customer': 'Ashley Lopez', 'make': 'Ferrari', 'model': '360 Modena', 'year': 2020, 'price': 23045} ,\n",
    "{'customer': 'Jessica Johnson', 'make': 'Honda', 'model': 'Accord', 'year': 2004, 'price': 21674} ,\n",
    "{'customer': 'Daniel Scott', 'make': 'Honda', 'model': 'Civic', 'year': 2000, 'price': 24596} ,\n",
    "{'customer': 'Barbara Cobain', 'make': 'Ford', 'model': 'F-150', 'year': 2022, 'price': 26912} ,\n",
    "{'customer': 'Stephanie Lewis', 'make': 'Chevrolet', 'model': 'Camaro', 'year': 2004, 'price': 44440} ,\n",
    "{'customer': 'Jennifer Cobain', 'make': 'Honda', 'model': 'Accord', 'year': 2014, 'price': 41296} ,\n",
    "{'customer': 'Brady Allen', 'make': 'Honda', 'model': 'CRV', 'year': 2013, 'price': 9423} ,\n",
    "{'customer': 'Michael Garcia', 'make': 'Honda', 'model': 'Civic', 'year': 2015, 'price': 16266} ,\n",
    "{'customer': 'Stephanie Scott', 'make': 'Toyota', 'model': 'RAV4', 'year': 2004, 'price': 21720} ,\n",
    "{'customer': 'Jessica Lee', 'make': 'Honda', 'model': 'Civic', 'year': 2000, 'price': 35966} ,\n",
    "{'customer': 'Andrew Nguyen', 'make': 'Honda', 'model': 'CRV', 'year': 2011, 'price': 39033} ,\n",
    "{'customer': 'Laura Hernandez', 'make': 'Honda', 'model': 'Accord', 'year': 2011, 'price': 8223} ,\n",
    "{'customer': 'David Wright', 'make': 'Honda', 'model': 'CRV', 'year': 2011, 'price': 19141} ,\n",
    "{'customer': 'Jane Wright', 'make': 'Toyota', 'model': 'Camry', 'year': 2005, 'price': 36957} ,\n",
    "{'customer': 'Jessica Sanchez', 'make': 'Honda', 'model': 'CRV', 'year': 2003, 'price': 8592} ,\n",
    "{'customer': 'Stella Ray Vaughan', 'make': 'Toyota', 'model': 'RAV4', 'year': 2024, 'price': 5931} ,\n",
    "{'customer': 'Matthew Jones', 'make': 'Toyota', 'model': 'Corolla', 'year': 2019, 'price': 45898} ,\n",
    "{'customer': 'Meghan Scott', 'make': 'Chevrolet', 'model': 'Malibu', 'year': 2004, 'price': 29432} ,\n",
    "{'customer': 'Melissa Ray Vaughan', 'make': 'Toyota', 'model': 'Camry', 'year': 2019, 'price': 8430} ,\n",
    "{'customer': 'Jimi Miller', 'make': 'Toyota', 'model': 'Camry', 'year': 2000, 'price': 10094} ,\n",
    "{'customer': 'Jane King', 'make': 'Honda', 'model': 'CRV', 'year': 2001, 'price': 27097} ,\n",
    "{'customer': 'Christopher Allen', 'make': 'Chevrolet', 'model': 'Malibu', 'year': 2002, 'price': 18407} ,\n",
    "{'customer': 'Mohammed Lee', 'make': 'Honda', 'model': 'Accord', 'year': 2022, 'price': 34923} ,\n",
    "{'customer': 'John Brown', 'make': 'Chevrolet', 'model': 'Camaro', 'year': 2023, 'price': 13753} ,\n",
    "{'customer': 'Michael Jones', 'make': 'Honda', 'model': 'CRV', 'year': 2014, 'price': 29198} ,\n",
    "{'customer': 'Stevie Hernandez', 'make': 'Honda', 'model': 'Civic', 'year': 2022, 'price': 35844} ,\n",
    "{'customer': 'Melissa King', 'make': 'Toyota', 'model': 'Camry', 'year': 2001, 'price': 21768} ,\n",
    "{'customer': 'Margaret Williams', 'make': 'Chevrolet', 'model': 'Corvette', 'year': 2011, 'price': 10495} ,\n",
    "{'customer': 'Bobby Tkachuk', 'make': 'Toyota', 'model': 'Corolla', 'year': 2016, 'price': 21531} ,\n",
    "{'customer': 'Ashley Singh', 'make': 'Toyota', 'model': 'RAV4', 'year': 2015, 'price': 18839} ,\n",
    "{'customer': 'Laura Brown', 'make': 'Chevrolet', 'model': 'Malibu', 'year': 2024, 'price': 44907} ,\n",
    "{'customer': 'Stella Davis', 'make': 'Chevrolet', 'model': 'Camaro', 'year': 2017, 'price': 9958} ,\n",
    "{'customer': 'Joshua Jones', 'make': 'Ford', 'model': 'Focus', 'year': 2003, 'price': 11139} ,\n",
    "{'customer': 'Samantha Allen', 'make': 'Chevrolet', 'model': 'Malibu', 'year': 2018, 'price': 25199} ,\n",
    "{'customer': 'Vanessa Robinson', 'make': 'Toyota', 'model': 'Corolla', 'year': 2021, 'price': 36619} ,\n",
    "{'customer': 'Samantha Clark', 'make': 'Honda', 'model': 'Accord', 'year': 2002, 'price': 22549} ,\n",
    "{'customer': 'Christopher Hernandez', 'make': 'Lamborghini', 'model': 'Diablo', 'year': 2015, 'price': 208419} ,\n",
    "{'customer': 'Ryan Lewis', 'make': 'Honda', 'model': 'CRV', 'year': 2024, 'price': 26343} ,\n",
    "{'customer': 'Stevie Nguyen', 'make': 'Honda', 'model': 'Civic', 'year': 2024, 'price': 10227} ,\n",
    "{'customer': 'Emily Nguyen', 'make': 'Honda', 'model': 'Civic', 'year': 2019, 'price': 52735} ,\n",
    "{'customer': 'Akshay Garcia', 'make': 'Toyota', 'model': 'Camry', 'year': 2005, 'price': 21783} ,\n",
    "{'customer': 'James Lopez', 'make': 'Ford', 'model': 'Mustang', 'year': 2021, 'price': 8044} ,\n",
    "{'customer': 'John Stutzle', 'make': 'Chevrolet', 'model': 'Corvette', 'year': 2015, 'price': 13599} ,\n",
    "{'customer': 'Kevin Walker', 'make': 'Ford', 'model': 'Mustang', 'year': 2013, 'price': 15122} ,\n",
    "{'customer': 'James Smith', 'make': 'Chevrolet', 'model': 'Corvette', 'year': 2004, 'price': 19134} ,\n",
    "{'customer': 'Melissa Cobain', 'make': 'Toyota', 'model': 'Corolla', 'year': 2021, 'price': 15517} ,\n",
    "{'customer': 'William Clark', 'make': 'Honda', 'model': 'Accord', 'year': 2021, 'price': 30744} ,\n",
    "{'customer': 'Laura Davis', 'make': 'Toyota', 'model': 'Corolla', 'year': 2018, 'price': 29943} ,\n",
    "{'customer': 'Emily Hendrix', 'make': 'Toyota', 'model': 'Camry', 'year': 2006, 'price': 14677} ,\n",
    "{'customer': 'Jane Hernandez', 'make': 'Toyota', 'model': 'RAV4', 'year': 2008, 'price': 20073} ,\n",
    "{'customer': 'Ashley Rodriguez', 'make': 'Honda', 'model': 'CRV', 'year': 2004, 'price': 9687} ,\n",
    "{'customer': 'Gurmuhk Singh', 'make': 'Toyota', 'model': 'Camry', 'year': 2002, 'price': 18126} ,\n",
    "{'customer': 'Daniel Lee', 'make': 'Honda', 'model': 'Accord', 'year': 2006, 'price': 10607} ,\n",
    "{'customer': 'Ashley Clark', 'make': 'Ford', 'model': 'Mustang', 'year': 2008, 'price': 24069} ,\n",
    "{'customer': 'Jessica Ray Vaughan', 'make': 'Ferrari', 'model': '458 Italia', 'year': 2015, 'price': 65734} ,\n",
    "{'customer': 'Stella Hendrix', 'make': 'Toyota', 'model': 'RAV4', 'year': 2011, 'price': 26739} ,\n",
    "{'customer': 'Luigi Gallo', 'make': 'Honda', 'model': 'Accord', 'year': 2011, 'price': 10033} ,\n",
    "{'customer': 'Kevin Hendrix', 'make': 'Ford', 'model': 'Focus', 'year': 2004, 'price': 29540} ,\n",
    "{'customer': 'Jerry Garcia', 'make': 'Toyota', 'model': 'Corolla', 'year': 2008, 'price': 29940} ,\n",
    "]"
   ]
  },
  {
   "cell_type": "markdown",
   "id": "f9e73b9c",
   "metadata": {},
   "source": [
    "1. In the cell below write a function that takes in `sale_list` and outputs the total revenue for all sales"
   ]
  },
  {
   "cell_type": "code",
   "execution_count": null,
   "id": "5ba3bba2",
   "metadata": {
    "scrolled": true
   },
   "outputs": [],
   "source": [
    "def calc_total_revenue(sales):\n",
    "    '''\n",
    "    fill out this function and return total_revenue\n",
    "    '''\n",
    "    \n",
    "    total_revenue = None # calculate the value and update this variable\n",
    "    \n",
    "    return(total_revenue)\n",
    "\n",
    "# call function and output results here\n",
    "total_revenue = calc_total_revenue(sale_list)\n",
    "print(f'Total revenue = ${total_revenue}')"
   ]
  },
  {
   "cell_type": "markdown",
   "id": "fae9ed6b",
   "metadata": {},
   "source": [
    "2. In the cell below write a function to calculate the total revenue for a specified make. Use a for loop to run it for each element in the list `makes` and output the results."
   ]
  },
  {
   "cell_type": "code",
   "execution_count": null,
   "id": "a3198baa",
   "metadata": {},
   "outputs": [],
   "source": [
    "def calc_revenue_per_make(sales,make):\n",
    "    '''\n",
    "    fill out this function and return revenue_for_make\n",
    "    '''\n",
    "    \n",
    "    revenue_for_make = None \n",
    "    \n",
    "    \n",
    "    return(revenue_for_make)\n",
    "\n",
    "makes = ['Honda', 'Toyota', 'Ford', 'Chevrolet', 'Ferrari', 'Lamborghini']\n",
    "\n",
    "# here is how you can nicely output the results.\n",
    "for make in makes:\n",
    "    print(f'Sale of all {make}s = ${calc_revenue_per_make(sale_list,make)}')"
   ]
  },
  {
   "cell_type": "markdown",
   "id": "4727283e",
   "metadata": {},
   "source": [
    "3. In the cell below write a function to calculate the total revenue for a specified year. Use a for loop to run it for each element in `range(2000,2025)` and output the results."
   ]
  },
  {
   "cell_type": "code",
   "execution_count": null,
   "id": "61486d7a",
   "metadata": {},
   "outputs": [],
   "source": [
    "def calc_revenue_per_year(sales,make):\n",
    "    '''\n",
    "    code goes here\n",
    "    '''\n",
    "    \n",
    "    revenue_for_year = None\n",
    "    \n",
    "    return(revenue_for_year)\n",
    "\n",
    "# use a for loop to calculate the revenue for each year and output the result.\n",
    "# an f-string might be an easy way to nicely display the results!"
   ]
  },
  {
   "cell_type": "markdown",
   "id": "fb14c99a",
   "metadata": {},
   "source": [
    "4. In the cell below write a function to count how many sales for a specified make were made. Use a for loop like in question 2 to calculate the value for each element in `makes`. It is now up to you to include the appropriate input variables for the function, the appropriate output variable, and to print the results nicely."
   ]
  },
  {
   "cell_type": "code",
   "execution_count": null,
   "id": "1811b338",
   "metadata": {},
   "outputs": [],
   "source": [
    "def count_sales_per_make():\n",
    "    \n",
    "    return()\n",
    "\n",
    "# call function and output results here"
   ]
  },
  {
   "cell_type": "markdown",
   "id": "8ce6ffc4",
   "metadata": {},
   "source": [
    "5. What is the most popular make (i.e. most number of sales)?"
   ]
  },
  {
   "cell_type": "code",
   "execution_count": null,
   "id": "3a4b5f59",
   "metadata": {},
   "outputs": [],
   "source": [
    "def most_popular_make():\n",
    " \n",
    "    return()\n",
    "\n",
    "# call function and output results here"
   ]
  },
  {
   "cell_type": "markdown",
   "id": "9acc80ca",
   "metadata": {},
   "source": [
    "6. What was the average revenue for each sale, for each make? For example if X number of BMW's were sold for a total of Y dollars, the average revenue would be Y/X dollars. Return the result as an integer."
   ]
  },
  {
   "cell_type": "code",
   "execution_count": null,
   "id": "4b06fc95",
   "metadata": {},
   "outputs": [],
   "source": [
    "def average_revenue_per_make():\n",
    "    \n",
    "    return()\n",
    "\n",
    "# call function in a for loop and output results here"
   ]
  },
  {
   "cell_type": "markdown",
   "id": "7a1e1a29",
   "metadata": {},
   "source": [
    "7. What were the 5 most expensive individual sales? Output all of the information for each of these 5 sales."
   ]
  },
  {
   "cell_type": "code",
   "execution_count": null,
   "id": "833e73eb",
   "metadata": {},
   "outputs": [],
   "source": [
    "def sort_by_price():\n",
    "\n",
    "    return()\n",
    "\n",
    "# call function and output results here"
   ]
  },
  {
   "cell_type": "markdown",
   "id": "bcff2b2d",
   "metadata": {},
   "source": [
    "8. What were the 5 least expensive individual sales? Output all of the information for each of these 5 sales. You might be able to use the function from question 7 with a slight modification."
   ]
  },
  {
   "cell_type": "code",
   "execution_count": null,
   "id": "606480f4",
   "metadata": {},
   "outputs": [],
   "source": [
    "def sort_by_price():\n",
    "\n",
    "    return()\n",
    "\n",
    "# call function and output results here"
   ]
  }
 ],
 "metadata": {
  "kernelspec": {
   "display_name": "Python 3",
   "language": "python",
   "name": "python3"
  },
  "language_info": {
   "codemirror_mode": {
    "name": "ipython",
    "version": 3
   },
   "file_extension": ".py",
   "mimetype": "text/x-python",
   "name": "python",
   "nbconvert_exporter": "python",
   "pygments_lexer": "ipython3",
   "version": "3.8.8"
  }
 },
 "nbformat": 4,
 "nbformat_minor": 5
}
